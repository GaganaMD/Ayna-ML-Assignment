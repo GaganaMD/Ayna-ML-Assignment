{
 "cells": [
  {
   "cell_type": "code",
   "execution_count": null,
   "id": "86aef953",
   "metadata": {
    "vscode": {
     "languageId": "plaintext"
    }
   },
   "outputs": [],
   "source": [
    "# Polygon Colorization: Inference Demo\n",
    "\n",
    "## Setup"
   ]
  },
  {
   "cell_type": "markdown",
   "id": "6067ca5c",
   "metadata": {},
   "source": [
    "# Polygon Colorization: Inference Demo\n",
    "\n",
    "## Setup"
   ]
  },
  {
   "cell_type": "code",
   "execution_count": null,
   "id": "9879077f",
   "metadata": {
    "vscode": {
     "languageId": "plaintext"
    }
   },
   "outputs": [],
   "source": [
    "import torch\n",
    "from model.unet_film import UNetFiLM\n",
    "from utils.visualization import show_triplet\n",
    "from utils.dataset import PolygonColorDataset\n",
    "import numpy as np\n",
    "import matplotlib.pyplot as plt"
   ]
  },
  {
   "cell_type": "code",
   "execution_count": null,
   "id": "e0e67fa9",
   "metadata": {
    "vscode": {
     "languageId": "plaintext"
    }
   },
   "outputs": [],
   "source": []
  },
  {
   "cell_type": "markdown",
   "id": "2edd3f75",
   "metadata": {},
   "source": [
    "Load color2idx and model"
   ]
  },
  {
   "cell_type": "markdown",
   "id": "3cf51c37",
   "metadata": {},
   "source": [
    "ckpt = torch.load(\"checkpoints/best_model.pt\", map_location='cpu')\n",
    "color2idx = ckpt['color2idx']\n",
    "idx2color = {v:k for k,v in color2idx.items()}\n",
    "model = UNetFiLM(num_colors=len(color2idx))\n",
    "model.load_state_dict(ckpt['model'])\n",
    "model.eval();"
   ]
  },
  {
   "cell_type": "markdown",
   "id": "56310a00",
   "metadata": {},
   "source": []
  },
  {
   "cell_type": "code",
   "execution_count": null,
   "id": "74738323",
   "metadata": {
    "vscode": {
     "languageId": "plaintext"
    }
   },
   "outputs": [],
   "source": [
    "ckpt = torch.load(\"checkpoints/best_model.pt\", map_location='cpu')\n",
    "color2idx = ckpt['color2idx']\n",
    "idx2color = {v:k for k,v in color2idx.items()}\n",
    "model = UNetFiLM(num_colors=len(color2idx))\n",
    "model.load_state_dict(ckpt['model'])\n",
    "model.eval();"
   ]
  },
  {
   "cell_type": "code",
   "execution_count": null,
   "id": "f85cedc1",
   "metadata": {
    "vscode": {
     "languageId": "plaintext"
    }
   },
   "outputs": [],
   "source": []
  },
  {
   "cell_type": "markdown",
   "id": "ad357f36",
   "metadata": {},
   "source": [
    "Sample input"
   ]
  },
  {
   "cell_type": "markdown",
   "id": "b77441d7",
   "metadata": {},
   "source": []
  },
  {
   "cell_type": "code",
   "execution_count": null,
   "id": "c01cd03a",
   "metadata": {
    "vscode": {
     "languageId": "plaintext"
    }
   },
   "outputs": [],
   "source": [
    "test_json = \"data/validation/data.json\"\n",
    "val_ds = PolygonColorDataset(\"data/validation\", test_json, color2idx)\n",
    "img, color_idx, target = val_ds\n",
    "with torch.no_grad():\n",
    "pred = model(img.unsqueeze(0), torch.tensor([color_idx])).squeeze(0)\n",
    "\n",
    "show_triplet(img, idx2color[color_idx.item()], target, pred)"
   ]
  },
  {
   "cell_type": "code",
   "execution_count": null,
   "id": "9876897d",
   "metadata": {
    "vscode": {
     "languageId": "plaintext"
    }
   },
   "outputs": [],
   "source": []
  }
 ],
 "metadata": {
  "language_info": {
   "name": "python"
  }
 },
 "nbformat": 4,
 "nbformat_minor": 5
}
